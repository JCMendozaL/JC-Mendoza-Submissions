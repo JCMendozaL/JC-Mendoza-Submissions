{
 "cells": [
  {
   "cell_type": "markdown",
   "metadata": {},
   "source": [
    "```\n",
    "193353\n",
    "Mendoza\n",
    "2 BS ITE\n",
    "```"
   ]
  },
  {
   "cell_type": "markdown",
   "metadata": {},
   "source": [
    "# Problem 1\n"
   ]
  },
  {
   "cell_type": "code",
   "execution_count": null,
   "metadata": {},
   "outputs": [],
   "source": [
    "def dollars_to_pesos ():\n",
    "    usd = float(input ('Enter the amount in US Dollars:  '))\n",
    "    php = usd*50\n",
    "    return usd, 'US Dollar(s) =',  php, 'Philippine Pesos.'"
   ]
  },
  {
   "cell_type": "markdown",
   "metadata": {},
   "source": [
    "# Problem 2"
   ]
  },
  {
   "cell_type": "code",
   "execution_count": null,
   "metadata": {},
   "outputs": [],
   "source": [
    "def operations ():\n",
    "    a = int(input('a: '))\n",
    "    b = int(input('b: '))\n",
    "    add = a + b\n",
    "    subtract = a - b\n",
    "    multi = a * b\n",
    "    divide = a // b\n",
    "    rem = a % b\n",
    "    print (add)\n",
    "    print (subtract)\n",
    "    print (multi)\n",
    "    print (divide)\n",
    "    print (rem)"
   ]
  },
  {
   "cell_type": "markdown",
   "metadata": {},
   "source": [
    "# Problem 3"
   ]
  },
  {
   "cell_type": "code",
   "execution_count": 1,
   "metadata": {},
   "outputs": [],
   "source": [
    "def convert_cm_to_m (cm):\n",
    "    mtr = float(cm / 100)\n",
    "    return mtr\n",
    "\n",
    "def compute_bmi (mtr, kg):\n",
    "    return kg / (mtr ** 2)"
   ]
  },
  {
   "cell_type": "code",
   "execution_count": null,
   "metadata": {},
   "outputs": [],
   "source": [
    "cm = float(input(\"Enter your height in cm: \"))\n",
    "kg = float (input(\"Enter your weight in kg: \"))\n",
    "mtr = convert_cm_to_m (cm)\n",
    "bmi = compute_bmi (mtr, kg)\n",
    "\n",
    "print ('BMI:', bmi)"
   ]
  }
 ],
 "metadata": {
  "kernelspec": {
   "display_name": "Python 3",
   "language": "python",
   "name": "python3"
  },
  "language_info": {
   "codemirror_mode": {
    "name": "ipython",
    "version": 3
   },
   "file_extension": ".py",
   "mimetype": "text/x-python",
   "name": "python",
   "nbconvert_exporter": "python",
   "pygments_lexer": "ipython3",
   "version": "3.8.5"
  }
 },
 "nbformat": 4,
 "nbformat_minor": 4
}
